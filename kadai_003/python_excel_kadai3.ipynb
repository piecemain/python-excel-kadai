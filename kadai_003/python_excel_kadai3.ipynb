{
  "nbformat": 4,
  "nbformat_minor": 0,
  "metadata": {
    "colab": {
      "provenance": []
    },
    "kernelspec": {
      "name": "python3",
      "display_name": "Python 3"
    },
    "language_info": {
      "name": "python"
    }
  },
  "cells": [
    {
      "cell_type": "code",
      "source": [
        "from tables.table import Column\n",
        "import pandas as pd\n",
        "from openpyxl import Workbook\n",
        "from openpyxl.utils.dataframe import dataframe_to_rows\n",
        "from openpyxl.styles import PatternFill\n",
        "from openpyxl.styles import Border,Side\n",
        "\n",
        "# 処理対象のファイル名のリストを格納\n",
        "file_list = ['2022_年間売上表.xlsx', '2023_年間売上表.xlsx']\n",
        "# 結合後のデータを格納するための空のデータフレームを作成\n",
        "df = pd.DataFrame()\n",
        "\n",
        "# ファイルを一つずつ処理する\n",
        "for file_name in file_list:\n",
        "    # Excelファイルを読み込む\n",
        "    temp_df = pd.read_excel(file_name,sheet_name='Sheet1')\n",
        "\n",
        "\n",
        "    # concat()でデータフレームを連結\n",
        "    df = pd.concat([df, temp_df], ignore_index=False)\n",
        "\n",
        "# 商品ごとに売上金額を合計\n",
        "summary=df.groupby(['商品', '売上年'])['金額（千円）'].sum().reset_index()\n",
        "\n",
        "#print(summary)\n",
        "\n",
        "\n",
        "# Excelファイルの作成\n",
        "wb = Workbook()\n",
        "ws = wb.active\n",
        "# データフレームをExcelファイルに書き込む\n",
        "for r in dataframe_to_rows(summary, index=False, header=True):\n",
        "    ws.append(r)\n",
        "\n",
        "# Side属性で線のスタイルを指定\n",
        "thin_border = Side(style='thin')\n",
        "\n",
        "# Border属性で各辺の線のスタイルを指定\n",
        "border = Border(top=thin_border, bottom=thin_border, left=thin_border, right=thin_border)\n",
        "#print(ws.max_column)\n",
        "column_len=ws.max_column+1\n",
        "for i in range(1,column_len):\n",
        "  # A1セルの背景色を（#F2F2F2）に設定\n",
        "  ws.cell(1,i).fill = PatternFill(patternType='solid', fgColor='F2F2F2')\n",
        "  ws.cell(1,i).border = border\n",
        "\n",
        "\n",
        "\n",
        "\n",
        "# Excelファイルを閉じる\n",
        "wb.save('売上集計表.xlsx')\n"
      ],
      "metadata": {
        "id": "UB12-VICAOEo"
      },
      "execution_count": 26,
      "outputs": []
    }
  ]
}