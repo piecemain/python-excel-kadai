{
  "nbformat": 4,
  "nbformat_minor": 0,
  "metadata": {
    "colab": {
      "provenance": []
    },
    "kernelspec": {
      "name": "python3",
      "display_name": "Python 3"
    },
    "language_info": {
      "name": "python"
    }
  },
  "cells": [
    {
      "cell_type": "code",
      "execution_count": 4,
      "metadata": {
        "id": "Zs80Q_bw4t1h"
      },
      "outputs": [],
      "source": [
        "import pandas as pd\n",
        "from openpyxl import Workbook\n",
        "from openpyxl.utils.dataframe import dataframe_to_rows\n",
        "\n",
        "# データフレームを作成する\n",
        "data = {\n",
        "    '日付': ['2023-05-17', '2023-05-18', '2023-05-19', '2023-05-20', '2023-05-21'],\n",
        "    '社員名': ['山田', '佐藤', '鈴木','田中', '高橋'],\n",
        "    '売上': [100, 200, 150, 300, 250],\n",
        "    '部門': ['メーカ－', '代理店', 'メーカ－', '商社', '代理店']\n",
        "}\n",
        "df = pd.DataFrame(data)\n",
        "\n",
        "# 売上の平均を求めて新しい列を作成\n",
        "df['平均売上'] = df['売上'].mean()\n",
        "profAVG= df['売上'].mean()\n",
        "\n",
        "\n",
        "# 平均売上で分岐して業績ランクを求める関数「performance」を定義\n",
        "def performance(profit):\n",
        "  result = '';\n",
        "  if profit >= profAVG+50:\n",
        "    result = 'A';\n",
        "  elif profit >= profAVG:\n",
        "    result = 'B';\n",
        "  else:\n",
        "    result = 'C';\n",
        "  return result\n",
        "\n",
        "# 「業績ランク」列を作成し、関数「performance」を適用して値を設定\n",
        "df['業績ランク'] = df['売上'].apply(performance)\n",
        "\n",
        "\n",
        "# Excelファイルの作成\n",
        "wb = Workbook()\n",
        "ws = wb.active\n",
        "\n",
        "# データフレームをExcelファイルに書き込む\n",
        "for r in dataframe_to_rows(df, index=False, header=True):\n",
        "    ws.append(r)\n",
        "\n",
        "# Excelファイルを閉じる\n",
        "wb.save('業績.xlsx')"
      ]
    }
  ]
}