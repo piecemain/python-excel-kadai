{
  "nbformat": 4,
  "nbformat_minor": 0,
  "metadata": {
    "colab": {
      "provenance": []
    },
    "kernelspec": {
      "name": "python3",
      "display_name": "Python 3"
    },
    "language_info": {
      "name": "python"
    }
  },
  "cells": [
    {
      "cell_type": "code",
      "execution_count": 45,
      "metadata": {
        "colab": {
          "base_uri": "https://localhost:8080/"
        },
        "id": "zwWm5XLXvXXj",
        "outputId": "61db2bd5-e323-42e3-a293-81b21ee205ca"
      },
      "outputs": [
        {
          "output_type": "stream",
          "name": "stdout",
          "text": [
            "10\n"
          ]
        }
      ],
      "source": [
        "from ast import Str\n",
        "import openpyxl\n",
        "# datetimeモジュールのdatetimeクラスをインポートする\n",
        "from datetime import datetime\n",
        "\n",
        "# 新しいワークブックを作成\n",
        "workbook = openpyxl.Workbook()\n",
        "sheet = workbook.active\n",
        "day = datetime.today()\n",
        "\n",
        "title=\"請求書\"\n",
        "company=\"株式会社ABC\"\n",
        "address=\"〒101-0022 東京都千代田区神田練塀町300\"\n",
        "TEL=\"TEL:03-1234-5678 FAX:03-1234-5678\"\n",
        "name=\"担当者名:鈴木一郎 様\"\n",
        "\n",
        "col_header1=\"No.\"\n",
        "col1=\"0001\"\n",
        "col_header2=\"日付\"\n",
        "today=day.strftime(\"%Y/%m/%d\")\n",
        "\n",
        "com_posROW=4\n",
        "com_posCOL=2-1\n",
        "date_posROW=4\n",
        "date_posCOL=6-1\n",
        "\n",
        "company_data=[company,address,TEL,name]\n",
        "date=[[col_header1,col1],\n",
        "      [col_header2,today]]\n",
        "\n",
        "# 表のヘッダー行を書き込む\n",
        "header = [\"商品名\", \"数量\",\"単価\", \"金額\"]\n",
        "date=[[col_header1,col1],\n",
        "      [col_header2,today]]\n",
        "\n",
        "sheet[\"A2\"]=title\n",
        "\n",
        "for com in company_data:\n",
        "  sheet.cell(com_posROW,com_posCOL,value=com)\n",
        "  com_posROW=com_posROW+1\n",
        "\n",
        "for dt in date:\n",
        "  date_posCOL2=date_posCOL\n",
        "  for value in dt:\n",
        "    sheet.cell(date_posROW,date_posCOL2,value=value)\n",
        "    date_posCOL2=date_posCOL2+1\n",
        "  date_posROW=date_posROW+1\n",
        "\n",
        "sheet.append(header)\n",
        "sheet.insert_rows(sheet.max_row, 2)\n",
        "\n",
        "print(sheet.max_row)\n",
        "order_row=sheet.max_row+1\n",
        "order_row2=sheet.max_row+2\n",
        "# 表のデータを書き込む\n",
        "item_data = [\n",
        "    [\"商品A\",2,10000,f\"=C{order_row}*D{order_row}\"],\n",
        "    [\"商品B\",1,15000,f\"=C{order_row2}*D{order_row2}\"],\n",
        "    [\"\",\"\",\"\",f\"=SUM(E{order_row}:E{order_row2})\"]]\n",
        "item_dataLEN=len(item_data)\n",
        "\n",
        "# for文でdataの各行をワークシートに追加する\n",
        "for row in item_data:\n",
        "    sheet.append(row)\n",
        "\n",
        "bill_data = [\n",
        "    [\"合計\",\"\",\"\",f\"=E{sheet.max_row}\"],\n",
        "    [\"消費税\",\"\",\"\",f\"=E{sheet.max_row+2}*0.1\"],\n",
        "    [\"税込合計\",\"\",\"\",f\"=SUM(E{sheet.max_row+2}:E{sheet.max_row+3})\"]]\n",
        "bill_dataLEN=len(bill_data)\n",
        "\n",
        "for row in bill_data:\n",
        "    sheet.append(row)\n",
        "\n",
        "\n",
        "sheet.insert_rows(sheet.max_row-bill_dataLEN+1,1)\n",
        "sheet.insert_cols(1, 1)\n",
        "\n",
        "# ファイルを保存\n",
        "workbook.save(f\"請求書_{day.strftime('%Y%m%d')}.xlsx\")\n"
      ]
    }
  ]
}